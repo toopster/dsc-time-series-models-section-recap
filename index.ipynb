{
 "cells": [
  {
   "cell_type": "markdown",
   "metadata": {},
   "source": [
    "# Modeling Time Series Data - Recap\n",
    "\n",
    "## Key Takeaways\n",
    "\n",
    "The key takeaways from this section include:  \n",
    "\n",
    "* A white noise model has a fixed and constant mean and variance, and no correlation over time  \n",
    "* A random walk model has no specified mean or variance, but has a strong dependence over time  \n",
    "* The Pandas `.corr()` method can be used to return the correlation between various time series in the DataFrame  \n",
    "* Autocorrelation allows us to identify how strongly each time series observation is related to previous observations  \n",
    "* The Autocorrelation Function (ACF) is a function that represents autocorrelation of a time series as a function of the time lag  \n",
    "* The Partial Autocorrelation Function (or PACF) gives the partial correlation of a time series with its own lagged values, controlling for the values of the time series at all shorter lags  \n",
    "* ARMA (Autoregressive and Moving Average) modeling is a tool for forecasting time series values by regressing the variable on its own lagged (past) values  \n",
    "* ARMA models assume that you've already detrended your data and that there is no seasonality \n",
    "\n"
   ]
  }
 ],
 "metadata": {
  "kernelspec": {
   "display_name": "Python 3",
   "language": "python",
   "name": "python3"
  },
  "language_info": {
   "codemirror_mode": {
    "name": "ipython",
    "version": 3
   },
   "file_extension": ".py",
   "mimetype": "text/x-python",
   "name": "python",
   "nbconvert_exporter": "python",
   "pygments_lexer": "ipython3",
   "version": "3.6.9"
  }
 },
 "nbformat": 4,
 "nbformat_minor": 2
}
